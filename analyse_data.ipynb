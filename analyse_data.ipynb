{
 "cells": [
  {
   "cell_type": "code",
   "execution_count": 1,
   "id": "a3050640-41fd-4d58-85b7-a0bbf38579b1",
   "metadata": {},
   "outputs": [],
   "source": [
    "import sys\n",
    "import re\n",
    "import logging\n",
    "from datetime import datetime, timedelta\n",
    "\n",
    "import pandas as pd\n",
    "\n",
    "from kite_login import KiteLogin\n",
    "from instruments_token import InstrumentToken\n",
    "from ai_data_generator import AiDataGenerator\n",
    "\n",
    "from settings import Setting\n",
    "\n",
    "logging.basicConfig(stream=sys.stdout, level=logging.DEBUG,\n",
    "\tformat=\"%(asctime)s - %(name)s - %(levelname)s - %(message)s\")"
   ]
  },
  {
   "cell_type": "code",
   "execution_count": 2,
   "id": "08b04574-68a5-40fe-a9bf-422103bee4d9",
   "metadata": {},
   "outputs": [],
   "source": [
    "setting = Setting()\n",
    "\n",
    "ai_data_generator = AiDataGenerator(setting, logging)\n"
   ]
  },
  {
   "cell_type": "code",
   "execution_count": 3,
   "id": "c0de28d7-518c-40aa-9764-0f882122c315",
   "metadata": {},
   "outputs": [
    {
     "name": "stdout",
     "output_type": "stream",
     "text": [
      "2025-05-14 00:29:34,447 - root - DEBUG - ✅ Connected to PostgreSQL successfully!\n",
      "2025-05-14 00:29:34,660 - root - INFO - fetched Data length: 2488\n",
      "2025-05-14 00:29:34,662 - root - INFO - Data length : 2488\n",
      "2025-05-14 00:29:34,883 - root - DEBUG - ✅ Query executed successfully.\n",
      "2025-05-14 00:29:34,886 - root - DEBUG - 🔌 Database connection closed.\n"
     ]
    },
    {
     "data": {
      "text/plain": [
       "True"
      ]
     },
     "execution_count": 3,
     "metadata": {},
     "output_type": "execute_result"
    }
   ],
   "source": [
    "ai_data_generator.copy_to_traning_table()"
   ]
  },
  {
   "cell_type": "code",
   "execution_count": 4,
   "id": "5ad1da91-2c5f-48c8-86d8-f119e78cdcf0",
   "metadata": {},
   "outputs": [
    {
     "data": {
      "text/plain": [
       "datetime.datetime(2025, 4, 25, 15, 44, 0, 714702)"
      ]
     },
     "execution_count": 4,
     "metadata": {},
     "output_type": "execute_result"
    }
   ],
   "source": [
    "current_time = datetime.now() - timedelta(days = 2)\n",
    "current_time"
   ]
  },
  {
   "cell_type": "code",
   "execution_count": 5,
   "id": "54e6d95f-a927-449e-b3bf-79f103d59aca",
   "metadata": {},
   "outputs": [
    {
     "name": "stdout",
     "output_type": "stream",
     "text": [
      "2025-04-02 00:58:59,466 - root - INFO - Started fetching 256265 at 2025-04-02 00:58:59.466540\n",
      "2025-04-02 00:58:59,474 - root - INFO - looping - 1\n",
      "2025-04-02 00:58:59,475 - root - INFO - from_dt 2025-04-01 09:00:00 to_dt 2025-04-01 16:00:00\n",
      "2025-04-02 00:58:59,533 - urllib3.connectionpool - DEBUG - https://api.kite.trade:443 \"GET /instruments/historical/256265/5minute?from=2025-04-01+09%3A00%3A00&to=2025-04-01+16%3A00%3A00&interval=5minute&continuous=0&oi=0 HTTP/1.1\" 200 None\n",
      "2025-04-02 00:58:59,550 - root - INFO - Ended fetching 75 data points for 256265 at 2025-04-02 00:58:59.550428\n",
      "2025-04-02 00:58:59,622 - root - DEBUG - ✅ Connected to PostgreSQL successfully!\n",
      "2025-04-02 00:58:59,633 - root - DEBUG - ✅ Query executed successfully.\n",
      "2025-04-02 00:58:59,635 - root - DEBUG - 🔌 Database connection closed.\n"
     ]
    },
    {
     "data": {
      "text/plain": [
       "True"
      ]
     },
     "execution_count": 5,
     "metadata": {},
     "output_type": "execute_result"
    }
   ],
   "source": [
    "\n",
    "h_data.sync_five_min_data_for_day(kite_login, current_time)"
   ]
  },
  {
   "cell_type": "code",
   "execution_count": null,
   "id": "32518e8f-b863-40d0-a6a9-45ae35cbdd96",
   "metadata": {},
   "outputs": [],
   "source": []
  }
 ],
 "metadata": {
  "kernelspec": {
   "display_name": "Python 3 (ipykernel)",
   "language": "python",
   "name": "python3"
  },
  "language_info": {
   "codemirror_mode": {
    "name": "ipython",
    "version": 3
   },
   "file_extension": ".py",
   "mimetype": "text/x-python",
   "name": "python",
   "nbconvert_exporter": "python",
   "pygments_lexer": "ipython3",
   "version": "3.13.0"
  }
 },
 "nbformat": 4,
 "nbformat_minor": 5
}

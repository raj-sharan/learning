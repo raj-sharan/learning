{
 "cells": [
  {
   "cell_type": "code",
   "execution_count": 1,
   "id": "ebe239a2-d1bf-4887-9f62-db3c59617ce2",
   "metadata": {},
   "outputs": [],
   "source": [
    "import re\n",
    "import sys\n",
    "import json\n",
    "import time\n",
    "import logging\n",
    "import traceback\n",
    "from datetime import datetime\n",
    "import mplfinance as mpf\n",
    "\n",
    "from settings import Setting\n",
    "from instrument import Instrument\n",
    "from  moving_averages import *\n",
    "from  candlestick_patterns import *\n",
    "\n",
    "from db_connect import PostgresDB\n",
    "from kite_login import KiteLogin\n",
    "from datetime import datetime, timedelta\n",
    "import sys\n",
    "import logging\n",
    "import importlib\n",
    "\n",
    "import pandas as pd\n",
    "\n",
    "from common import Util\n",
    "from settings import Setting\n",
    "from instruments_token import InstrumentToken\n",
    "from momentum_analyser import MomentumAnalyser\n",
    "from historetical_data import HistoricalData\n",
    "\n",
    "logging.basicConfig(stream=sys.stdout, level=logging.DEBUG,\n",
    "\tformat=\"%(asctime)s[%(levelname)s] - %(message)s\")\n",
    "\n"
   ]
  },
  {
   "cell_type": "code",
   "execution_count": 2,
   "id": "136c773d-6c8c-4d6d-b7a5-a1a0910d451e",
   "metadata": {},
   "outputs": [],
   "source": [
    "token = 256265\n",
    "is_index = True\n",
    "\n",
    "setting = Setting()\n",
    "setting.table_name_5m = 'historical_data_5m_test'\n"
   ]
  },
  {
   "cell_type": "code",
   "execution_count": 3,
   "id": "291c07f6-b397-4dd0-9f99-2bacc0d57d6b",
   "metadata": {},
   "outputs": [],
   "source": [
    "start_time = datetime.now()\n",
    "start_time = datetime(start_time.year, start_time.month, start_time.day, 16, 15)\n",
    "unique_key = Util.generate_5m_id(start_time)"
   ]
  },
  {
   "cell_type": "code",
   "execution_count": 3,
   "id": "afd7eed6-618c-4d76-9479-19dc325512ca",
   "metadata": {},
   "outputs": [
    {
     "ename": "NameError",
     "evalue": "name 'kite_login' is not defined",
     "output_type": "error",
     "traceback": [
      "\u001b[0;31m---------------------------------------------------------------------------\u001b[0m",
      "\u001b[0;31mNameError\u001b[0m                                 Traceback (most recent call last)",
      "Cell \u001b[0;32mIn[3], line 2\u001b[0m\n\u001b[1;32m      1\u001b[0m instrument_token \u001b[38;5;241m=\u001b[39m InstrumentToken(setting, logging)\n\u001b[0;32m----> 2\u001b[0m instrument_token\u001b[38;5;241m.\u001b[39mload_instrument_tokens(\u001b[43mkite_login\u001b[49m)\n",
      "\u001b[0;31mNameError\u001b[0m: name 'kite_login' is not defined"
     ]
    }
   ],
   "source": [
    "instrument_token = InstrumentToken(setting, logging)\n",
    "instrument_token.load_instrument_tokens(kite_login)"
   ]
  },
  {
   "cell_type": "code",
   "execution_count": 4,
   "id": "3c263f09-b30f-40d9-9417-1ccb35bce33e",
   "metadata": {},
   "outputs": [
    {
     "name": "stdout",
     "output_type": "stream",
     "text": [
      "2025-03-31 20:34:55,039[DEBUG] - ✅ Connected to PostgreSQL successfully!\n",
      "2025-03-31 20:34:55,239[DEBUG] - 🔌 Database connection closed.\n"
     ]
    }
   ],
   "source": [
    "instrument = Instrument(token, is_index, setting, logging)\n",
    "# instrument.load_historical_data(unique_key)\n",
    "# instrument.load_historical_test_data(unique_key)"
   ]
  },
  {
   "cell_type": "code",
   "execution_count": 5,
   "id": "00cfc893-1366-4990-bbf4-5d06b5b964ac",
   "metadata": {},
   "outputs": [
    {
     "data": {
      "text/html": [
       "<div>\n",
       "<style scoped>\n",
       "    .dataframe tbody tr th:only-of-type {\n",
       "        vertical-align: middle;\n",
       "    }\n",
       "\n",
       "    .dataframe tbody tr th {\n",
       "        vertical-align: top;\n",
       "    }\n",
       "\n",
       "    .dataframe thead th {\n",
       "        text-align: right;\n",
       "    }\n",
       "</style>\n",
       "<table border=\"1\" class=\"dataframe\">\n",
       "  <thead>\n",
       "    <tr style=\"text-align: right;\">\n",
       "      <th></th>\n",
       "      <th>date</th>\n",
       "      <th>open</th>\n",
       "      <th>high</th>\n",
       "      <th>low</th>\n",
       "      <th>close</th>\n",
       "      <th>unique_key</th>\n",
       "      <th>token</th>\n",
       "    </tr>\n",
       "  </thead>\n",
       "  <tbody>\n",
       "    <tr>\n",
       "      <th>0</th>\n",
       "      <td>2024-03-11 09:15:00</td>\n",
       "      <td>22517.50</td>\n",
       "      <td>22526.60</td>\n",
       "      <td>22460.95</td>\n",
       "      <td>22497.70</td>\n",
       "      <td>202403110915</td>\n",
       "      <td>256265</td>\n",
       "    </tr>\n",
       "    <tr>\n",
       "      <th>1</th>\n",
       "      <td>2024-03-11 09:20:00</td>\n",
       "      <td>22496.50</td>\n",
       "      <td>22498.45</td>\n",
       "      <td>22471.90</td>\n",
       "      <td>22480.40</td>\n",
       "      <td>202403110920</td>\n",
       "      <td>256265</td>\n",
       "    </tr>\n",
       "    <tr>\n",
       "      <th>2</th>\n",
       "      <td>2024-03-11 09:25:00</td>\n",
       "      <td>22482.70</td>\n",
       "      <td>22501.60</td>\n",
       "      <td>22476.10</td>\n",
       "      <td>22488.95</td>\n",
       "      <td>202403110925</td>\n",
       "      <td>256265</td>\n",
       "    </tr>\n",
       "    <tr>\n",
       "      <th>3</th>\n",
       "      <td>2024-03-11 09:30:00</td>\n",
       "      <td>22487.65</td>\n",
       "      <td>22497.55</td>\n",
       "      <td>22480.70</td>\n",
       "      <td>22480.70</td>\n",
       "      <td>202403110930</td>\n",
       "      <td>256265</td>\n",
       "    </tr>\n",
       "    <tr>\n",
       "      <th>4</th>\n",
       "      <td>2024-03-11 09:35:00</td>\n",
       "      <td>22481.50</td>\n",
       "      <td>22481.50</td>\n",
       "      <td>22467.85</td>\n",
       "      <td>22471.35</td>\n",
       "      <td>202403110935</td>\n",
       "      <td>256265</td>\n",
       "    </tr>\n",
       "    <tr>\n",
       "      <th>...</th>\n",
       "      <td>...</td>\n",
       "      <td>...</td>\n",
       "      <td>...</td>\n",
       "      <td>...</td>\n",
       "      <td>...</td>\n",
       "      <td>...</td>\n",
       "      <td>...</td>\n",
       "    </tr>\n",
       "    <tr>\n",
       "      <th>18178</th>\n",
       "      <td>2025-03-03 15:05:00</td>\n",
       "      <td>22110.80</td>\n",
       "      <td>22124.70</td>\n",
       "      <td>22110.50</td>\n",
       "      <td>22116.90</td>\n",
       "      <td>202503031505</td>\n",
       "      <td>256265</td>\n",
       "    </tr>\n",
       "    <tr>\n",
       "      <th>18179</th>\n",
       "      <td>2025-03-03 15:10:00</td>\n",
       "      <td>22118.40</td>\n",
       "      <td>22124.70</td>\n",
       "      <td>22113.60</td>\n",
       "      <td>22117.25</td>\n",
       "      <td>202503031510</td>\n",
       "      <td>256265</td>\n",
       "    </tr>\n",
       "    <tr>\n",
       "      <th>18180</th>\n",
       "      <td>2025-03-03 15:15:00</td>\n",
       "      <td>22117.25</td>\n",
       "      <td>22120.60</td>\n",
       "      <td>22110.10</td>\n",
       "      <td>22119.35</td>\n",
       "      <td>202503031515</td>\n",
       "      <td>256265</td>\n",
       "    </tr>\n",
       "    <tr>\n",
       "      <th>18181</th>\n",
       "      <td>2025-03-03 15:20:00</td>\n",
       "      <td>22119.55</td>\n",
       "      <td>22129.35</td>\n",
       "      <td>22111.90</td>\n",
       "      <td>22126.25</td>\n",
       "      <td>202503031520</td>\n",
       "      <td>256265</td>\n",
       "    </tr>\n",
       "    <tr>\n",
       "      <th>18182</th>\n",
       "      <td>2025-03-03 15:25:00</td>\n",
       "      <td>22126.25</td>\n",
       "      <td>22146.55</td>\n",
       "      <td>22121.45</td>\n",
       "      <td>22143.15</td>\n",
       "      <td>202503031525</td>\n",
       "      <td>256265</td>\n",
       "    </tr>\n",
       "  </tbody>\n",
       "</table>\n",
       "<p>18183 rows × 7 columns</p>\n",
       "</div>"
      ],
      "text/plain": [
       "                     date      open      high       low     close  \\\n",
       "0     2024-03-11 09:15:00  22517.50  22526.60  22460.95  22497.70   \n",
       "1     2024-03-11 09:20:00  22496.50  22498.45  22471.90  22480.40   \n",
       "2     2024-03-11 09:25:00  22482.70  22501.60  22476.10  22488.95   \n",
       "3     2024-03-11 09:30:00  22487.65  22497.55  22480.70  22480.70   \n",
       "4     2024-03-11 09:35:00  22481.50  22481.50  22467.85  22471.35   \n",
       "...                   ...       ...       ...       ...       ...   \n",
       "18178 2025-03-03 15:05:00  22110.80  22124.70  22110.50  22116.90   \n",
       "18179 2025-03-03 15:10:00  22118.40  22124.70  22113.60  22117.25   \n",
       "18180 2025-03-03 15:15:00  22117.25  22120.60  22110.10  22119.35   \n",
       "18181 2025-03-03 15:20:00  22119.55  22129.35  22111.90  22126.25   \n",
       "18182 2025-03-03 15:25:00  22126.25  22146.55  22121.45  22143.15   \n",
       "\n",
       "         unique_key   token  \n",
       "0      202403110915  256265  \n",
       "1      202403110920  256265  \n",
       "2      202403110925  256265  \n",
       "3      202403110930  256265  \n",
       "4      202403110935  256265  \n",
       "...             ...     ...  \n",
       "18178  202503031505  256265  \n",
       "18179  202503031510  256265  \n",
       "18180  202503031515  256265  \n",
       "18181  202503031520  256265  \n",
       "18182  202503031525  256265  \n",
       "\n",
       "[18183 rows x 7 columns]"
      ]
     },
     "execution_count": 5,
     "metadata": {},
     "output_type": "execute_result"
    }
   ],
   "source": [
    "instrument.historical_data_5m"
   ]
  },
  {
   "cell_type": "code",
   "execution_count": 6,
   "id": "ec8c4322-d1f8-47bf-9492-071efa262d9e",
   "metadata": {},
   "outputs": [
    {
     "data": {
      "text/html": [
       "<div>\n",
       "<style scoped>\n",
       "    .dataframe tbody tr th:only-of-type {\n",
       "        vertical-align: middle;\n",
       "    }\n",
       "\n",
       "    .dataframe tbody tr th {\n",
       "        vertical-align: top;\n",
       "    }\n",
       "\n",
       "    .dataframe thead th {\n",
       "        text-align: right;\n",
       "    }\n",
       "</style>\n",
       "<table border=\"1\" class=\"dataframe\">\n",
       "  <thead>\n",
       "    <tr style=\"text-align: right;\">\n",
       "      <th></th>\n",
       "      <th>date</th>\n",
       "      <th>open</th>\n",
       "      <th>high</th>\n",
       "      <th>low</th>\n",
       "      <th>close</th>\n",
       "      <th>unique_key</th>\n",
       "      <th>token</th>\n",
       "    </tr>\n",
       "  </thead>\n",
       "  <tbody>\n",
       "    <tr>\n",
       "      <th>0</th>\n",
       "      <td>2024-03-11 09:15:00</td>\n",
       "      <td>22517.50</td>\n",
       "      <td>22526.60</td>\n",
       "      <td>22460.95</td>\n",
       "      <td>22497.70</td>\n",
       "      <td>202403110915</td>\n",
       "      <td>256265</td>\n",
       "    </tr>\n",
       "    <tr>\n",
       "      <th>1</th>\n",
       "      <td>2024-03-11 09:20:00</td>\n",
       "      <td>22496.50</td>\n",
       "      <td>22498.45</td>\n",
       "      <td>22471.90</td>\n",
       "      <td>22480.40</td>\n",
       "      <td>202403110920</td>\n",
       "      <td>256265</td>\n",
       "    </tr>\n",
       "    <tr>\n",
       "      <th>2</th>\n",
       "      <td>2024-03-11 09:25:00</td>\n",
       "      <td>22482.70</td>\n",
       "      <td>22501.60</td>\n",
       "      <td>22476.10</td>\n",
       "      <td>22488.95</td>\n",
       "      <td>202403110925</td>\n",
       "      <td>256265</td>\n",
       "    </tr>\n",
       "    <tr>\n",
       "      <th>3</th>\n",
       "      <td>2024-03-11 09:30:00</td>\n",
       "      <td>22487.65</td>\n",
       "      <td>22497.55</td>\n",
       "      <td>22480.70</td>\n",
       "      <td>22480.70</td>\n",
       "      <td>202403110930</td>\n",
       "      <td>256265</td>\n",
       "    </tr>\n",
       "    <tr>\n",
       "      <th>4</th>\n",
       "      <td>2024-03-11 09:35:00</td>\n",
       "      <td>22481.50</td>\n",
       "      <td>22481.50</td>\n",
       "      <td>22467.85</td>\n",
       "      <td>22471.35</td>\n",
       "      <td>202403110935</td>\n",
       "      <td>256265</td>\n",
       "    </tr>\n",
       "    <tr>\n",
       "      <th>...</th>\n",
       "      <td>...</td>\n",
       "      <td>...</td>\n",
       "      <td>...</td>\n",
       "      <td>...</td>\n",
       "      <td>...</td>\n",
       "      <td>...</td>\n",
       "      <td>...</td>\n",
       "    </tr>\n",
       "    <tr>\n",
       "      <th>18178</th>\n",
       "      <td>2025-03-03 15:05:00</td>\n",
       "      <td>22110.80</td>\n",
       "      <td>22124.70</td>\n",
       "      <td>22110.50</td>\n",
       "      <td>22116.90</td>\n",
       "      <td>202503031505</td>\n",
       "      <td>256265</td>\n",
       "    </tr>\n",
       "    <tr>\n",
       "      <th>18179</th>\n",
       "      <td>2025-03-03 15:10:00</td>\n",
       "      <td>22118.40</td>\n",
       "      <td>22124.70</td>\n",
       "      <td>22113.60</td>\n",
       "      <td>22117.25</td>\n",
       "      <td>202503031510</td>\n",
       "      <td>256265</td>\n",
       "    </tr>\n",
       "    <tr>\n",
       "      <th>18180</th>\n",
       "      <td>2025-03-03 15:15:00</td>\n",
       "      <td>22117.25</td>\n",
       "      <td>22120.60</td>\n",
       "      <td>22110.10</td>\n",
       "      <td>22119.35</td>\n",
       "      <td>202503031515</td>\n",
       "      <td>256265</td>\n",
       "    </tr>\n",
       "    <tr>\n",
       "      <th>18181</th>\n",
       "      <td>2025-03-03 15:20:00</td>\n",
       "      <td>22119.55</td>\n",
       "      <td>22129.35</td>\n",
       "      <td>22111.90</td>\n",
       "      <td>22126.25</td>\n",
       "      <td>202503031520</td>\n",
       "      <td>256265</td>\n",
       "    </tr>\n",
       "    <tr>\n",
       "      <th>18182</th>\n",
       "      <td>2025-03-03 15:25:00</td>\n",
       "      <td>22126.25</td>\n",
       "      <td>22146.55</td>\n",
       "      <td>22121.45</td>\n",
       "      <td>22143.15</td>\n",
       "      <td>202503031525</td>\n",
       "      <td>256265</td>\n",
       "    </tr>\n",
       "  </tbody>\n",
       "</table>\n",
       "<p>18183 rows × 7 columns</p>\n",
       "</div>"
      ],
      "text/plain": [
       "                     date      open      high       low     close  \\\n",
       "0     2024-03-11 09:15:00  22517.50  22526.60  22460.95  22497.70   \n",
       "1     2024-03-11 09:20:00  22496.50  22498.45  22471.90  22480.40   \n",
       "2     2024-03-11 09:25:00  22482.70  22501.60  22476.10  22488.95   \n",
       "3     2024-03-11 09:30:00  22487.65  22497.55  22480.70  22480.70   \n",
       "4     2024-03-11 09:35:00  22481.50  22481.50  22467.85  22471.35   \n",
       "...                   ...       ...       ...       ...       ...   \n",
       "18178 2025-03-03 15:05:00  22110.80  22124.70  22110.50  22116.90   \n",
       "18179 2025-03-03 15:10:00  22118.40  22124.70  22113.60  22117.25   \n",
       "18180 2025-03-03 15:15:00  22117.25  22120.60  22110.10  22119.35   \n",
       "18181 2025-03-03 15:20:00  22119.55  22129.35  22111.90  22126.25   \n",
       "18182 2025-03-03 15:25:00  22126.25  22146.55  22121.45  22143.15   \n",
       "\n",
       "         unique_key   token  \n",
       "0      202403110915  256265  \n",
       "1      202403110920  256265  \n",
       "2      202403110925  256265  \n",
       "3      202403110930  256265  \n",
       "4      202403110935  256265  \n",
       "...             ...     ...  \n",
       "18178  202503031505  256265  \n",
       "18179  202503031510  256265  \n",
       "18180  202503031515  256265  \n",
       "18181  202503031520  256265  \n",
       "18182  202503031525  256265  \n",
       "\n",
       "[18183 rows x 7 columns]"
      ]
     },
     "execution_count": 6,
     "metadata": {},
     "output_type": "execute_result"
    }
   ],
   "source": [
    "df_5m = instrument.historical_data_5m.copy()\n",
    "df_5m"
   ]
  },
  {
   "cell_type": "code",
   "execution_count": 7,
   "id": "bd3e7f88-6003-4fb4-b963-3bf2e05ba33f",
   "metadata": {},
   "outputs": [],
   "source": [
    "# df_5m.to_csv(\"NIFTY50-poc1.csv\")"
   ]
  },
  {
   "cell_type": "code",
   "execution_count": 8,
   "id": "c9befae2-8058-4bf9-8d27-684f1f794596",
   "metadata": {},
   "outputs": [],
   "source": [
    "# df_5m[\"shooting_star\"] = df_5m.apply(lambda row: is_shooting_star(row.name, df_5m), axis=1)"
   ]
  },
  {
   "cell_type": "code",
   "execution_count": 9,
   "id": "0117c433-8fd6-4f70-9247-5697a0a819c8",
   "metadata": {},
   "outputs": [
    {
     "data": {
      "text/html": [
       "<div>\n",
       "<style scoped>\n",
       "    .dataframe tbody tr th:only-of-type {\n",
       "        vertical-align: middle;\n",
       "    }\n",
       "\n",
       "    .dataframe tbody tr th {\n",
       "        vertical-align: top;\n",
       "    }\n",
       "\n",
       "    .dataframe thead th {\n",
       "        text-align: right;\n",
       "    }\n",
       "</style>\n",
       "<table border=\"1\" class=\"dataframe\">\n",
       "  <thead>\n",
       "    <tr style=\"text-align: right;\">\n",
       "      <th></th>\n",
       "      <th>date</th>\n",
       "      <th>open</th>\n",
       "      <th>high</th>\n",
       "      <th>low</th>\n",
       "      <th>close</th>\n",
       "      <th>unique_key</th>\n",
       "      <th>token</th>\n",
       "      <th>is_shooting_star</th>\n",
       "    </tr>\n",
       "  </thead>\n",
       "  <tbody>\n",
       "    <tr>\n",
       "      <th>0</th>\n",
       "      <td>2024-03-11 09:15:00</td>\n",
       "      <td>22517.50</td>\n",
       "      <td>22526.60</td>\n",
       "      <td>22460.95</td>\n",
       "      <td>22497.70</td>\n",
       "      <td>202403110915</td>\n",
       "      <td>256265</td>\n",
       "      <td>False</td>\n",
       "    </tr>\n",
       "    <tr>\n",
       "      <th>1</th>\n",
       "      <td>2024-03-11 09:20:00</td>\n",
       "      <td>22496.50</td>\n",
       "      <td>22498.45</td>\n",
       "      <td>22471.90</td>\n",
       "      <td>22480.40</td>\n",
       "      <td>202403110920</td>\n",
       "      <td>256265</td>\n",
       "      <td>False</td>\n",
       "    </tr>\n",
       "    <tr>\n",
       "      <th>2</th>\n",
       "      <td>2024-03-11 09:25:00</td>\n",
       "      <td>22482.70</td>\n",
       "      <td>22501.60</td>\n",
       "      <td>22476.10</td>\n",
       "      <td>22488.95</td>\n",
       "      <td>202403110925</td>\n",
       "      <td>256265</td>\n",
       "      <td>False</td>\n",
       "    </tr>\n",
       "    <tr>\n",
       "      <th>3</th>\n",
       "      <td>2024-03-11 09:30:00</td>\n",
       "      <td>22487.65</td>\n",
       "      <td>22497.55</td>\n",
       "      <td>22480.70</td>\n",
       "      <td>22480.70</td>\n",
       "      <td>202403110930</td>\n",
       "      <td>256265</td>\n",
       "      <td>False</td>\n",
       "    </tr>\n",
       "    <tr>\n",
       "      <th>4</th>\n",
       "      <td>2024-03-11 09:35:00</td>\n",
       "      <td>22481.50</td>\n",
       "      <td>22481.50</td>\n",
       "      <td>22467.85</td>\n",
       "      <td>22471.35</td>\n",
       "      <td>202403110935</td>\n",
       "      <td>256265</td>\n",
       "      <td>False</td>\n",
       "    </tr>\n",
       "    <tr>\n",
       "      <th>...</th>\n",
       "      <td>...</td>\n",
       "      <td>...</td>\n",
       "      <td>...</td>\n",
       "      <td>...</td>\n",
       "      <td>...</td>\n",
       "      <td>...</td>\n",
       "      <td>...</td>\n",
       "      <td>...</td>\n",
       "    </tr>\n",
       "    <tr>\n",
       "      <th>18178</th>\n",
       "      <td>2025-03-03 15:05:00</td>\n",
       "      <td>22110.80</td>\n",
       "      <td>22124.70</td>\n",
       "      <td>22110.50</td>\n",
       "      <td>22116.90</td>\n",
       "      <td>202503031505</td>\n",
       "      <td>256265</td>\n",
       "      <td>True</td>\n",
       "    </tr>\n",
       "    <tr>\n",
       "      <th>18179</th>\n",
       "      <td>2025-03-03 15:10:00</td>\n",
       "      <td>22118.40</td>\n",
       "      <td>22124.70</td>\n",
       "      <td>22113.60</td>\n",
       "      <td>22117.25</td>\n",
       "      <td>202503031510</td>\n",
       "      <td>256265</td>\n",
       "      <td>False</td>\n",
       "    </tr>\n",
       "    <tr>\n",
       "      <th>18180</th>\n",
       "      <td>2025-03-03 15:15:00</td>\n",
       "      <td>22117.25</td>\n",
       "      <td>22120.60</td>\n",
       "      <td>22110.10</td>\n",
       "      <td>22119.35</td>\n",
       "      <td>202503031515</td>\n",
       "      <td>256265</td>\n",
       "      <td>False</td>\n",
       "    </tr>\n",
       "    <tr>\n",
       "      <th>18181</th>\n",
       "      <td>2025-03-03 15:20:00</td>\n",
       "      <td>22119.55</td>\n",
       "      <td>22129.35</td>\n",
       "      <td>22111.90</td>\n",
       "      <td>22126.25</td>\n",
       "      <td>202503031520</td>\n",
       "      <td>256265</td>\n",
       "      <td>False</td>\n",
       "    </tr>\n",
       "    <tr>\n",
       "      <th>18182</th>\n",
       "      <td>2025-03-03 15:25:00</td>\n",
       "      <td>22126.25</td>\n",
       "      <td>22146.55</td>\n",
       "      <td>22121.45</td>\n",
       "      <td>22143.15</td>\n",
       "      <td>202503031525</td>\n",
       "      <td>256265</td>\n",
       "      <td>False</td>\n",
       "    </tr>\n",
       "  </tbody>\n",
       "</table>\n",
       "<p>18183 rows × 8 columns</p>\n",
       "</div>"
      ],
      "text/plain": [
       "                     date      open      high       low     close  \\\n",
       "0     2024-03-11 09:15:00  22517.50  22526.60  22460.95  22497.70   \n",
       "1     2024-03-11 09:20:00  22496.50  22498.45  22471.90  22480.40   \n",
       "2     2024-03-11 09:25:00  22482.70  22501.60  22476.10  22488.95   \n",
       "3     2024-03-11 09:30:00  22487.65  22497.55  22480.70  22480.70   \n",
       "4     2024-03-11 09:35:00  22481.50  22481.50  22467.85  22471.35   \n",
       "...                   ...       ...       ...       ...       ...   \n",
       "18178 2025-03-03 15:05:00  22110.80  22124.70  22110.50  22116.90   \n",
       "18179 2025-03-03 15:10:00  22118.40  22124.70  22113.60  22117.25   \n",
       "18180 2025-03-03 15:15:00  22117.25  22120.60  22110.10  22119.35   \n",
       "18181 2025-03-03 15:20:00  22119.55  22129.35  22111.90  22126.25   \n",
       "18182 2025-03-03 15:25:00  22126.25  22146.55  22121.45  22143.15   \n",
       "\n",
       "         unique_key   token  is_shooting_star  \n",
       "0      202403110915  256265             False  \n",
       "1      202403110920  256265             False  \n",
       "2      202403110925  256265             False  \n",
       "3      202403110930  256265             False  \n",
       "4      202403110935  256265             False  \n",
       "...             ...     ...               ...  \n",
       "18178  202503031505  256265              True  \n",
       "18179  202503031510  256265             False  \n",
       "18180  202503031515  256265             False  \n",
       "18181  202503031520  256265             False  \n",
       "18182  202503031525  256265             False  \n",
       "\n",
       "[18183 rows x 8 columns]"
      ]
     },
     "execution_count": 9,
     "metadata": {},
     "output_type": "execute_result"
    }
   ],
   "source": [
    "df_5m[\"is_shooting_star\"] = df_5m.apply(lambda row: is_shooting_star(row.name, df_5m), axis=1)\n",
    "df_5m"
   ]
  },
  {
   "cell_type": "code",
   "execution_count": 10,
   "id": "62b97467-4870-4235-9cb5-28d9a980b526",
   "metadata": {},
   "outputs": [],
   "source": [
    "# df_5m[\"bearish_down\"] = df_5m.apply(lambda row: is_bearish_three_inside_down(row.name, df_5m), axis=1)"
   ]
  },
  {
   "cell_type": "code",
   "execution_count": 11,
   "id": "1baf284c-59a7-4920-a15a-f0cad92c505d",
   "metadata": {},
   "outputs": [],
   "source": [
    "# df_5m[\"is_bearish_marubozu\"] = df_5m.apply(lambda row: is_bearish_marubozu(row.name, df_5m), axis=1)"
   ]
  },
  {
   "cell_type": "code",
   "execution_count": 12,
   "id": "6f0896e1-6d72-47cb-a4cb-af9338e3abad",
   "metadata": {},
   "outputs": [],
   "source": [
    "# df_5m[\"is_hammer\"] = df_5m.apply(lambda row: is_hammer(row.name, df_5m), axis=1)"
   ]
  },
  {
   "cell_type": "code",
   "execution_count": 13,
   "id": "c1e26047-aa29-47b9-afa2-c8930826958f",
   "metadata": {},
   "outputs": [],
   "source": [
    "# df_5m[\"bullish_engulfing\"] = df_5m.apply(lambda row: is_bullish_engulfing(row.name, df_5m), axis=1)"
   ]
  },
  {
   "cell_type": "code",
   "execution_count": 14,
   "id": "4359ab28-4a5f-44a6-a549-557cb7b0c596",
   "metadata": {},
   "outputs": [],
   "source": [
    "# df_5m[\"bullish_up\"] = df_5m.apply(lambda row: is_bullish_three_inside_up(row.name, df_5m), axis=1)"
   ]
  },
  {
   "cell_type": "code",
   "execution_count": 15,
   "id": "99b04b16-41ed-4379-a99d-98770648b3eb",
   "metadata": {},
   "outputs": [],
   "source": [
    "# df_5m[\"is_bullish_marubozu\"] = df_5m.apply(lambda row: is_bullish_marubozu(row.name, df_5m), axis=1)"
   ]
  },
  {
   "cell_type": "code",
   "execution_count": 16,
   "id": "413123c2-17db-4899-b4d1-b94c1232b332",
   "metadata": {},
   "outputs": [],
   "source": [
    "# df_ce = df_5m[df_5m[[\"is_bullish_engulfing\"]].any(axis=1)]\n",
    "# df_5m"
   ]
  },
  {
   "cell_type": "code",
   "execution_count": 17,
   "id": "7406f6a1-2c9a-4720-8527-10eb347bf9b4",
   "metadata": {},
   "outputs": [],
   "source": [
    "filetred = df_5m[df_5m[[\"is_shooting_star\"]].any(axis=1)]\n",
    "filetred = filetred[['date', 'unique_key', 'is_shooting_star']]"
   ]
  },
  {
   "cell_type": "code",
   "execution_count": 18,
   "id": "76f936f7-2771-479e-85c4-053e88934588",
   "metadata": {},
   "outputs": [],
   "source": [
    "filetred.to_csv(\"is_shooting_star.csv\")\n",
    "# df = pd.read_csv('momentums_new4.csv')"
   ]
  },
  {
   "cell_type": "code",
   "execution_count": 26,
   "id": "0eaa069f-5c81-4b70-bf0d-db25def4e14e",
   "metadata": {},
   "outputs": [],
   "source": [
    "current_time = datetime.now()"
   ]
  },
  {
   "cell_type": "code",
   "execution_count": 27,
   "id": "0bf74236-7f8e-4c1a-953a-cee3e9ae4c0d",
   "metadata": {},
   "outputs": [],
   "source": [
    "start_day = current_time - timedelta(days = 3)\n",
    "end_day   = current_time - timedelta(days = 1)"
   ]
  },
  {
   "cell_type": "code",
   "execution_count": 28,
   "id": "54268344-759d-4054-ab31-b4de22b49f7f",
   "metadata": {},
   "outputs": [
    {
     "data": {
      "text/plain": [
       "(datetime.datetime(2025, 3, 29, 9, 25, 43, 72517),\n",
       " datetime.datetime(2025, 3, 31, 9, 25, 43, 72517))"
      ]
     },
     "execution_count": 28,
     "metadata": {},
     "output_type": "execute_result"
    }
   ],
   "source": [
    "start_day, end_day"
   ]
  },
  {
   "cell_type": "code",
   "execution_count": 29,
   "id": "8c046996-6b92-4392-8d1c-d1fdae558be3",
   "metadata": {},
   "outputs": [],
   "source": [
    "current_time = start_day"
   ]
  },
  {
   "cell_type": "code",
   "execution_count": 30,
   "id": "76d15d20-2c6e-4441-a613-157052b1522c",
   "metadata": {},
   "outputs": [
    {
     "data": {
      "text/plain": [
       "datetime.datetime(2025, 3, 29, 9, 25, 43, 72517)"
      ]
     },
     "execution_count": 30,
     "metadata": {},
     "output_type": "execute_result"
    }
   ],
   "source": [
    "current_time"
   ]
  },
  {
   "cell_type": "code",
   "execution_count": 31,
   "id": "7f9360ce-c782-45a4-b890-8b930c3aad1e",
   "metadata": {},
   "outputs": [],
   "source": [
    "start_day = current_time - timedelta(days = 3)\n",
    "end_day   = current_time - timedelta(days = 1)"
   ]
  },
  {
   "cell_type": "code",
   "execution_count": 32,
   "id": "25bf8fca-e559-4c6e-bf9f-76ce5fbde3ea",
   "metadata": {},
   "outputs": [
    {
     "data": {
      "text/plain": [
       "(datetime.datetime(2025, 3, 26, 9, 25, 43, 72517),\n",
       " datetime.datetime(2025, 3, 28, 9, 25, 43, 72517))"
      ]
     },
     "execution_count": 32,
     "metadata": {},
     "output_type": "execute_result"
    }
   ],
   "source": [
    "start_day, end_day"
   ]
  },
  {
   "cell_type": "code",
   "execution_count": 2,
   "id": "91d4147e-4279-4e46-8e53-59c24a079cec",
   "metadata": {},
   "outputs": [
    {
     "data": {
      "text/plain": [
       "0.5"
      ]
     },
     "execution_count": 2,
     "metadata": {},
     "output_type": "execute_result"
    }
   ],
   "source": [
    "2/4"
   ]
  },
  {
   "cell_type": "code",
   "execution_count": null,
   "id": "8abde9fa-ec53-455f-802c-570f6b2b88b2",
   "metadata": {},
   "outputs": [],
   "source": []
  }
 ],
 "metadata": {
  "kernelspec": {
   "display_name": "Python 3 (ipykernel)",
   "language": "python",
   "name": "python3"
  },
  "language_info": {
   "codemirror_mode": {
    "name": "ipython",
    "version": 3
   },
   "file_extension": ".py",
   "mimetype": "text/x-python",
   "name": "python",
   "nbconvert_exporter": "python",
   "pygments_lexer": "ipython3",
   "version": "3.13.0"
  }
 },
 "nbformat": 4,
 "nbformat_minor": 5
}

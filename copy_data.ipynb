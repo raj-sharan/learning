{
 "cells": [
  {
   "cell_type": "code",
   "execution_count": 13,
   "id": "076903aa-4ed2-4a35-bced-d4031d3179e0",
   "metadata": {},
   "outputs": [],
   "source": [
    "import sys\n",
    "import re\n",
    "import logging\n",
    "from datetime import datetime, timedelta\n",
    "\n",
    "import pandas as pd\n",
    "\n",
    "from kite_login import KiteLogin\n",
    "from instruments_token import InstrumentToken\n",
    "from ai_data_generator import AiDataGenerator\n",
    "\n",
    "from settings import Setting\n",
    "\n",
    "logging.basicConfig(stream=sys.stdout, level=logging.INFO,\n",
    "\tformat=\"%(asctime)s - %(name)s - %(levelname)s - %(message)s\")"
   ]
  },
  {
   "cell_type": "code",
   "execution_count": 14,
   "id": "df8e6560-2622-4664-a176-bde9bb250926",
   "metadata": {},
   "outputs": [],
   "source": [
    "setting = Setting()"
   ]
  },
  {
   "cell_type": "code",
   "execution_count": 15,
   "id": "53a7815c-c9b4-4739-b4a2-0461d8f45566",
   "metadata": {},
   "outputs": [],
   "source": [
    "ai_data_generator = AiDataGenerator(setting, logging)"
   ]
  },
  {
   "cell_type": "code",
   "execution_count": 16,
   "id": "51db18d0-35ef-4ec8-b4d4-68d63bc36da3",
   "metadata": {},
   "outputs": [
    {
     "name": "stdout",
     "output_type": "stream",
     "text": [
      "2025-05-30 11:09:11,038 - root - INFO - fetched Data length: 290500\n",
      "2025-05-30 11:09:11,043 - root - INFO - Data length : 290500\n"
     ]
    },
    {
     "data": {
      "text/plain": [
       "True"
      ]
     },
     "execution_count": 16,
     "metadata": {},
     "output_type": "execute_result"
    }
   ],
   "source": [
    "ai_data_generator.copy_to_tick_details_copy()"
   ]
  },
  {
   "cell_type": "code",
   "execution_count": null,
   "id": "b51b567f-0363-42f2-bd07-c221db6f7148",
   "metadata": {},
   "outputs": [],
   "source": []
  }
 ],
 "metadata": {
  "kernelspec": {
   "display_name": "Python 3 (ipykernel)",
   "language": "python",
   "name": "python3"
  },
  "language_info": {
   "codemirror_mode": {
    "name": "ipython",
    "version": 3
   },
   "file_extension": ".py",
   "mimetype": "text/x-python",
   "name": "python",
   "nbconvert_exporter": "python",
   "pygments_lexer": "ipython3",
   "version": "3.13.0"
  }
 },
 "nbformat": 4,
 "nbformat_minor": 5
}
